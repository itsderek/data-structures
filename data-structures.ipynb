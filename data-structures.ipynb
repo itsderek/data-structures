{
 "cells": [
  {
   "cell_type": "markdown",
   "metadata": {},
   "source": [
    "## Node\n",
    "The Node class will be the basic building block for all the following data structures. It can hold a value and can have one or more children. This is accomplished by having a list of Nodes instead of defining each Node child."
   ]
  },
  {
   "cell_type": "code",
   "execution_count": 35,
   "metadata": {},
   "outputs": [],
   "source": [
    "class Node:\n",
    "    def __init__(self, value=None):\n",
    "        self.value = value\n",
    "        self.node_list = []\n",
    "    \n",
    "    def addChild(self, child_node):\n",
    "        self.node_list.append(child_node)\n",
    "    \n",
    "    #FIFO behavior by default\n",
    "    def removeChild(self):\n",
    "        return self.node_list.pop(0)\n",
    "    \n",
    "    def __str__(self):\n",
    "        return str(self.value)"
   ]
  },
  {
   "cell_type": "markdown",
   "metadata": {},
   "source": [
    "### Testing\n",
    "Running simple tests to make sure the methods work correctly."
   ]
  },
  {
   "cell_type": "code",
   "execution_count": 38,
   "metadata": {},
   "outputs": [
    {
     "name": "stdout",
     "output_type": "stream",
     "text": [
      "Derek \n",
      "\n",
      "Derek\n",
      "Monty\n"
     ]
    }
   ],
   "source": [
    "test_node = Node(\"Derek\")\n",
    "print(test_node, \"\\n\")\n",
    "\n",
    "test_node.addChild(Node(\"Monty\"))\n",
    "print(test_node)\n",
    "print(test_node.node_list[0])\n"
   ]
  },
  {
   "cell_type": "markdown",
   "metadata": {},
   "source": [
    "## Stack\n",
    "A very simple implementation of a stack. It has two methods, push and pop, which manipulate adding to and removal from our stack. Pop returns False if there is nothing on the stack."
   ]
  },
  {
   "cell_type": "code",
   "execution_count": 58,
   "metadata": {},
   "outputs": [],
   "source": [
    "class Stack:\n",
    "    def __init__(self, node=None):\n",
    "        self.head = node\n",
    "    \n",
    "    def push(self, value):\n",
    "        if(self.head is None):\n",
    "            self.head = Node(value)\n",
    "        else:\n",
    "            new_node = Node(value)\n",
    "            new_node.addChild(self.head)\n",
    "            self.head = new_node\n",
    "    \n",
    "    def pop(self):\n",
    "        if(self.head is None):\n",
    "            return None\n",
    "        elif(len(self.head.node_list) == 0):\n",
    "            popped_node = self.head\n",
    "            self.head = None\n",
    "            return popped_node.value\n",
    "        else:\n",
    "            popped_node = self.head\n",
    "            self.head = self.head.removeChild()\n",
    "            return popped_node.value"
   ]
  },
  {
   "cell_type": "markdown",
   "metadata": {},
   "source": [
    "### Debugging\n",
    "I was having some trouble with Python's classes (I'm new to Python) so I had to go through a few rounds of debugging to figure out why my stack wasn't working. Turns out I wasn't checking the correct value in my pop's if statement. "
   ]
  },
  {
   "cell_type": "code",
   "execution_count": 59,
   "metadata": {},
   "outputs": [
    {
     "name": "stdout",
     "output_type": "stream",
     "text": [
      "stack.head.value: Derek stack.head.node_list.len: 0\n",
      "stack.head.value: Susan stack.head.node_list.len: 1\n",
      "Susan\n",
      "Derek\n"
     ]
    }
   ],
   "source": [
    "stack = Stack()\n",
    "\n",
    "stack.push(\"Derek\")\n",
    "print(\"stack.head.value: \" + str(stack.head.value) + \" stack.head.node_list.len: \" + str(len(stack.head.node_list)))\n",
    "stack.push(\"Susan\")\n",
    "print(\"stack.head.value: \" + str(stack.head.value) + \" stack.head.node_list.len: \" + str(len(stack.head.node_list)))\n",
    "      \n",
    "print(stack.pop())\n",
    "print(stack.pop())"
   ]
  },
  {
   "cell_type": "markdown",
   "metadata": {},
   "source": [
    "### Testing\n"
   ]
  },
  {
   "cell_type": "code",
   "execution_count": 60,
   "metadata": {},
   "outputs": [
    {
     "name": "stdout",
     "output_type": "stream",
     "text": [
      "False\n",
      "3.14\n",
      "1\n",
      "Derek\n",
      "None\n"
     ]
    }
   ],
   "source": [
    "test_stack = Stack()\n",
    "\n",
    "stack.push(\"Derek\")\n",
    "stack.push(1)\n",
    "stack.push(False)\n",
    "\n",
    "print(stack.pop())\n",
    "\n",
    "stack.push(3.14)\n",
    "\n",
    "print(stack.pop())\n",
    "print(stack.pop())\n",
    "print(stack.pop())\n",
    "print(stack.pop())"
   ]
  },
  {
   "cell_type": "markdown",
   "metadata": {},
   "source": [
    "## Queue\n",
    "Similar to the stack, only FIFO functionality instead of the stack's LIFO."
   ]
  },
  {
   "cell_type": "code",
   "execution_count": 79,
   "metadata": {},
   "outputs": [],
   "source": [
    "class Queue:\n",
    "    def __init__(self, node=None):\n",
    "        self.head = node\n",
    "    \n",
    "    def push(self, value):\n",
    "        temp_node = self.head\n",
    "        \n",
    "        if(temp_node is None):\n",
    "            self.head = Node(value)\n",
    "            return\n",
    "        while(len(temp_node.node_list) != 0):\n",
    "            temp_node = temp_node.node_list[0]\n",
    "        \n",
    "        temp_node.addChild(Node(value))\n",
    "        \n",
    "    def pop(self):\n",
    "        temp_node = self.head\n",
    "        \n",
    "        if(temp_node is None):\n",
    "            return None\n",
    "        elif(len(temp_node.node_list) == 0):\n",
    "            self.head = None\n",
    "            return temp_node.value\n",
    "        else:\n",
    "            self.head = self.head.node_list[0]\n",
    "            return temp_node.value"
   ]
  },
  {
   "cell_type": "markdown",
   "metadata": {},
   "source": [
    "## Debugging\n",
    "Nothing too crazy here."
   ]
  },
  {
   "cell_type": "code",
   "execution_count": 81,
   "metadata": {},
   "outputs": [
    {
     "name": "stdout",
     "output_type": "stream",
     "text": [
      "3\n",
      "4\n",
      "5\n",
      "None\n"
     ]
    }
   ],
   "source": [
    "queue = Queue()\n",
    "\n",
    "queue.push(3)\n",
    "queue.push(4)\n",
    "queue.push(5)\n",
    "\n",
    "print(queue.pop())\n",
    "print(queue.pop())\n",
    "print(queue.pop())\n",
    "print(queue.pop())"
   ]
  },
  {
   "cell_type": "markdown",
   "metadata": {},
   "source": [
    "## Testing"
   ]
  },
  {
   "cell_type": "code",
   "execution_count": 82,
   "metadata": {},
   "outputs": [
    {
     "name": "stdout",
     "output_type": "stream",
     "text": [
      "Derek\n",
      "1\n",
      "False\n",
      "3.14\n",
      "None\n"
     ]
    }
   ],
   "source": [
    "test_queue = Queue()\n",
    "\n",
    "queue.push(\"Derek\")\n",
    "queue.push(1)\n",
    "queue.push(False)\n",
    "\n",
    "print(queue.pop())\n",
    "\n",
    "queue.push(3.14)\n",
    "\n",
    "print(queue.pop())\n",
    "print(queue.pop())\n",
    "print(queue.pop())\n",
    "print(queue.pop())"
   ]
  },
  {
   "cell_type": "markdown",
   "metadata": {},
   "source": [
    "## Binary Tree\n",
    "I'll start with a generic tree, then expand it later."
   ]
  },
  {
   "cell_type": "code",
   "execution_count": null,
   "metadata": {},
   "outputs": [],
   "source": [
    "class BinaryTree:\n",
    "    def __init__(self, node=None):\n",
    "        self.head = node\n",
    "    \n",
    "    def push(self, node):\n",
    "        if self.head is None:\n",
    "            self.head = node\n",
    "        else:\n",
    "            "
   ]
  }
 ],
 "metadata": {
  "kernelspec": {
   "display_name": "Python 3",
   "language": "python",
   "name": "python3"
  },
  "language_info": {
   "codemirror_mode": {
    "name": "ipython",
    "version": 3
   },
   "file_extension": ".py",
   "mimetype": "text/x-python",
   "name": "python",
   "nbconvert_exporter": "python",
   "pygments_lexer": "ipython3",
   "version": "3.7.1"
  }
 },
 "nbformat": 4,
 "nbformat_minor": 2
}
