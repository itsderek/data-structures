{
 "cells": [
  {
   "cell_type": "markdown",
   "metadata": {},
   "source": [
    "## Node\n",
    "The Node class will be the basic building block for all the following data structures. It can hold a value and can have one or more children. This is accomplished by having a list of Nodes instead of defining each Node child."
   ]
  },
  {
   "cell_type": "code",
   "execution_count": 1,
   "metadata": {},
   "outputs": [],
   "source": [
    "class Node:\n",
    "    def __init__(self, value=None):\n",
    "        self.value = value\n",
    "        self.node_list = []\n",
    "    \n",
    "    def addChild(self, child_node):\n",
    "        self.node_list.append(child_node)\n",
    "    \n",
    "    #FIFO behavior by default\n",
    "    def removeChild(self):\n",
    "        return self.node_list.pop(0)\n",
    "    \n",
    "    def __str__(self):\n",
    "        return str(self.value)"
   ]
  },
  {
   "cell_type": "markdown",
   "metadata": {},
   "source": [
    "### Testing\n",
    "Running simple tests to make sure the methods work correctly."
   ]
  },
  {
   "cell_type": "code",
   "execution_count": 2,
   "metadata": {},
   "outputs": [
    {
     "name": "stdout",
     "output_type": "stream",
     "text": [
      "Derek \n",
      "\n",
      "Derek\n",
      "Monty\n"
     ]
    }
   ],
   "source": [
    "test_node = Node(\"Derek\")\n",
    "print(test_node, \"\\n\")\n",
    "\n",
    "test_node.addChild(Node(\"Monty\"))\n",
    "print(test_node)\n",
    "print(test_node.node_list[0])\n"
   ]
  },
  {
   "cell_type": "markdown",
   "metadata": {},
   "source": [
    "## Stack\n",
    "A very simple implementation of a stack. It has two methods, push and pop, which manipulate adding to and removal from our stack. Pop returns False if there is nothing on the stack."
   ]
  },
  {
   "cell_type": "code",
   "execution_count": 3,
   "metadata": {},
   "outputs": [],
   "source": [
    "class Stack:\n",
    "    def __init__(self, node=None):\n",
    "        self.head = node\n",
    "    \n",
    "    def push(self, value):\n",
    "        if(self.head is None):\n",
    "            self.head = Node(value)\n",
    "        else:\n",
    "            new_node = Node(value)\n",
    "            new_node.addChild(self.head)\n",
    "            self.head = new_node\n",
    "    \n",
    "    def pop(self):\n",
    "        if(self.head is None):\n",
    "            return None\n",
    "        elif(len(self.head.node_list) == 0):\n",
    "            popped_node = self.head\n",
    "            self.head = None\n",
    "            return popped_node.value\n",
    "        else:\n",
    "            popped_node = self.head\n",
    "            self.head = self.head.removeChild()\n",
    "            return popped_node.value"
   ]
  },
  {
   "cell_type": "markdown",
   "metadata": {},
   "source": [
    "### Debugging\n",
    "I was having some trouble with Python's classes (I'm new to Python) so I had to go through a few rounds of debugging to figure out why my stack wasn't working. Turns out I wasn't checking the correct value in my pop's if statement. "
   ]
  },
  {
   "cell_type": "code",
   "execution_count": 4,
   "metadata": {},
   "outputs": [
    {
     "name": "stdout",
     "output_type": "stream",
     "text": [
      "stack.head.value: Derek stack.head.node_list.len: 0\n",
      "stack.head.value: Susan stack.head.node_list.len: 1\n",
      "Susan\n",
      "Derek\n"
     ]
    }
   ],
   "source": [
    "stack = Stack()\n",
    "\n",
    "stack.push(\"Derek\")\n",
    "print(\"stack.head.value: \" + str(stack.head.value) + \" stack.head.node_list.len: \" + str(len(stack.head.node_list)))\n",
    "stack.push(\"Susan\")\n",
    "print(\"stack.head.value: \" + str(stack.head.value) + \" stack.head.node_list.len: \" + str(len(stack.head.node_list)))\n",
    "      \n",
    "print(stack.pop())\n",
    "print(stack.pop())"
   ]
  },
  {
   "cell_type": "markdown",
   "metadata": {},
   "source": [
    "### Testing\n"
   ]
  },
  {
   "cell_type": "code",
   "execution_count": 5,
   "metadata": {},
   "outputs": [
    {
     "name": "stdout",
     "output_type": "stream",
     "text": [
      "False\n",
      "3.14\n",
      "1\n",
      "Derek\n",
      "None\n"
     ]
    }
   ],
   "source": [
    "test_stack = Stack()\n",
    "\n",
    "stack.push(\"Derek\")\n",
    "stack.push(1)\n",
    "stack.push(False)\n",
    "\n",
    "print(stack.pop())\n",
    "\n",
    "stack.push(3.14)\n",
    "\n",
    "print(stack.pop())\n",
    "print(stack.pop())\n",
    "print(stack.pop())\n",
    "print(stack.pop())"
   ]
  },
  {
   "cell_type": "markdown",
   "metadata": {},
   "source": [
    "## Queue\n",
    "Similar to the stack, only FIFO functionality instead of the stack's LIFO."
   ]
  },
  {
   "cell_type": "code",
   "execution_count": 6,
   "metadata": {},
   "outputs": [],
   "source": [
    "class Queue:\n",
    "    def __init__(self, node=None):\n",
    "        self.head = node\n",
    "    \n",
    "    def push(self, value):\n",
    "        temp_node = self.head\n",
    "        \n",
    "        if(temp_node is None):\n",
    "            self.head = Node(value)\n",
    "            return\n",
    "        while(len(temp_node.node_list) != 0):\n",
    "            temp_node = temp_node.node_list[0]\n",
    "        \n",
    "        temp_node.addChild(Node(value))\n",
    "        \n",
    "    def pop(self):\n",
    "        temp_node = self.head\n",
    "        \n",
    "        if(temp_node is None):\n",
    "            return None\n",
    "        elif(len(temp_node.node_list) == 0):\n",
    "            self.head = None\n",
    "            return temp_node.value\n",
    "        else:\n",
    "            self.head = self.head.node_list[0]\n",
    "            return temp_node.value"
   ]
  },
  {
   "cell_type": "markdown",
   "metadata": {},
   "source": [
    "## Debugging\n",
    "Nothing too crazy here."
   ]
  },
  {
   "cell_type": "code",
   "execution_count": 7,
   "metadata": {},
   "outputs": [
    {
     "name": "stdout",
     "output_type": "stream",
     "text": [
      "3\n",
      "4\n",
      "5\n",
      "None\n"
     ]
    }
   ],
   "source": [
    "queue = Queue()\n",
    "\n",
    "queue.push(3)\n",
    "queue.push(4)\n",
    "queue.push(5)\n",
    "\n",
    "print(queue.pop())\n",
    "print(queue.pop())\n",
    "print(queue.pop())\n",
    "print(queue.pop())"
   ]
  },
  {
   "cell_type": "markdown",
   "metadata": {},
   "source": [
    "## Testing"
   ]
  },
  {
   "cell_type": "code",
   "execution_count": 8,
   "metadata": {},
   "outputs": [
    {
     "name": "stdout",
     "output_type": "stream",
     "text": [
      "Derek\n",
      "1\n",
      "False\n",
      "3.14\n",
      "None\n"
     ]
    }
   ],
   "source": [
    "test_queue = Queue()\n",
    "\n",
    "queue.push(\"Derek\")\n",
    "queue.push(1)\n",
    "queue.push(False)\n",
    "\n",
    "print(queue.pop())\n",
    "\n",
    "queue.push(3.14)\n",
    "\n",
    "print(queue.pop())\n",
    "print(queue.pop())\n",
    "print(queue.pop())\n",
    "print(queue.pop())"
   ]
  },
  {
   "cell_type": "markdown",
   "metadata": {},
   "source": [
    "## Binary Tree\n",
    "I'll start with a generic tree, then expand it later.\n",
    "\n",
    "#### Note:\n",
    "I have realized that the Node class above will not work how I want for a Binary Tree. This is because you can't specifically place a node at index 1 in an empty list. It will automatically add it to the beginning of the list, or index 0. I am going to leave that one alone and make a new Node specifically for this Binary Tree."
   ]
  },
  {
   "cell_type": "code",
   "execution_count": 9,
   "metadata": {},
   "outputs": [],
   "source": [
    "class BTNode:\n",
    "    def __init__(self, value=None):\n",
    "        self.value = value\n",
    "        self.left = None\n",
    "        self.right = None\n",
    "\n",
    "    def __str__(self):\n",
    "        return str(self.value)"
   ]
  },
  {
   "cell_type": "markdown",
   "metadata": {},
   "source": [
    "## Testing\n",
    "#### Note:\n",
    "I need to fix the node class. It is able to override a child and that is not functionality that I want."
   ]
  },
  {
   "cell_type": "code",
   "execution_count": 10,
   "metadata": {},
   "outputs": [
    {
     "name": "stdout",
     "output_type": "stream",
     "text": [
      "Derek\n",
      "\n"
     ]
    }
   ],
   "source": [
    "test_btnode = BTNode(\"Derek\")\n",
    "print(str(test_btnode) + \"\\n\")"
   ]
  },
  {
   "cell_type": "markdown",
   "metadata": {},
   "source": [
    "## Binary Tree"
   ]
  },
  {
   "cell_type": "code",
   "execution_count": 11,
   "metadata": {},
   "outputs": [],
   "source": [
    "class BinaryTree:\n",
    "    def __init__(self, node=None):\n",
    "        self.head = node\n",
    "    \n",
    "    def __str__(self):\n",
    "        return \"head: \" + str(self.head)\n",
    "    \n",
    "    def push(self, node):\n",
    "        self.temp_node = self.head\n",
    "        \n",
    "        if self.head is None:\n",
    "            self.head = node\n",
    "            return\n",
    "        else:\n",
    "            while True:\n",
    "                if (node.value >= self.temp_node.value) and (self.temp_node.right is not None):\n",
    "                    self.temp_node = self.temp_node.right\n",
    "                elif (node.value < self.temp_node.value) and (self.temp_node.left is not None):\n",
    "                    self.temp_node = self.temp_node.left\n",
    "                elif (node.value >= self.temp_node.value) and (self.temp_node.right is None):\n",
    "                    self.temp_node.right = node\n",
    "                    return\n",
    "                else:\n",
    "                    self.temp_node.left = node\n",
    "                    return\n",
    "    \n",
    "    def pop(self):\n",
    "        self.temp_node = self.head\n",
    "        self.parent_node = self.head\n",
    "        \n",
    "        if self.temp_node is None:\n",
    "            return None\n",
    "        else:\n",
    "            while True:\n",
    "                if self.temp_node.left is not None:\n",
    "                    self.parent_node = self.temp_node\n",
    "                    self.temp_node = self.temp_node.left\n",
    "                    continue\n",
    "                elif self.temp_node.right is not None:\n",
    "                    self.parent_node = self.temp_node\n",
    "                    self.temp_node = self.temp_node.right\n",
    "                    continue\n",
    "                elif (self.parent_node.left is None) and (self.parent_node.right is None):\n",
    "                    self.head = None\n",
    "                    return self.parent_node\n",
    "                elif self.parent_node.left is None:\n",
    "                    self.parent_node.right = None\n",
    "                    return self.temp_node\n",
    "                elif self.parent_node.left is not None:\n",
    "                    self.parent_node.left = None\n",
    "                    return self.temp_node\n",
    "                else:\n",
    "                    self.head = None\n",
    "                    return self.temp_node"
   ]
  },
  {
   "cell_type": "markdown",
   "metadata": {},
   "source": [
    "### Debugging\n",
    "Using a list for child nodes is proving to be a bit tough. -> Ended up creating BTNode because of this issue. "
   ]
  },
  {
   "cell_type": "code",
   "execution_count": 12,
   "metadata": {},
   "outputs": [
    {
     "name": "stdout",
     "output_type": "stream",
     "text": [
      "head: Derek \n",
      "\n",
      "head: Derek\n",
      "Apple\n",
      "\n",
      "H. Derek\n",
      "L. Apple\n",
      "R. Zebra\n",
      "LL. None\n",
      "LR. Banana\n",
      "RL. Susan\n",
      "RR. None\n",
      "LRL. None\n",
      "LRR. None\n",
      "RLL. Dustin\n",
      "RLR. Tami\n",
      "RLLR. Nick\n",
      "RLLRL. Katie\n",
      "\n",
      "Banana\n",
      "Apple\n",
      "Katie\n",
      "Nick\n",
      "Dustin\n",
      "Tami\n",
      "Susan\n",
      "Zebra\n",
      "Derek\n",
      "None\n",
      "\n",
      " head: None\n",
      "5\n",
      "3\n",
      "15\n",
      "7\n",
      "10\n"
     ]
    }
   ],
   "source": [
    "binary_tree = BinaryTree()\n",
    "\n",
    "binary_tree.push(BTNode(\"Derek\"))\n",
    "print(binary_tree, \"\\n\")\n",
    "\n",
    "binary_tree.push(BTNode(\"Apple\"))\n",
    "print(str(binary_tree) + \"\\n\" + str(binary_tree.head.left) + \"\\n\")\n",
    "\n",
    "binary_tree.push(BTNode(\"Zebra\"))\n",
    "binary_tree.push(BTNode(\"Banana\"))\n",
    "binary_tree.push(BTNode(\"Susan\"))\n",
    "binary_tree.push(BTNode(\"Dustin\"))\n",
    "binary_tree.push(BTNode(\"Tami\"))\n",
    "binary_tree.push(BTNode(\"Nick\"))\n",
    "binary_tree.push(BTNode(\"Katie\"))\n",
    "\n",
    "\n",
    "print(\"H. \" + str(binary_tree.head) + \"\\n\" + \\\n",
    "      \"L. \" + str(binary_tree.head.left) + \"\\n\" + \\\n",
    "      \"R. \" + str(binary_tree.head.right) + \"\\n\" + \\\n",
    "      \"LL. \" + str(binary_tree.head.left.left) + \"\\n\" + \\\n",
    "      \"LR. \" + str(binary_tree.head.left.right) + \"\\n\" + \\\n",
    "      \"RL. \" + str(binary_tree.head.right.left) + \"\\n\" + \\\n",
    "      \"RR. \" + str(binary_tree.head.right.right) + \"\\n\" + \\\n",
    "      \"LRL. \" + str(binary_tree.head.left.right.left) + \"\\n\" + \\\n",
    "      \"LRR. \" + str(binary_tree.head.left.right.right) + \"\\n\" + \\\n",
    "      \"RLL. \" + str(binary_tree.head.right.left.left) + \"\\n\" + \\\n",
    "      \"RLR. \" + str(binary_tree.head.right.left.right) + \"\\n\" + \\\n",
    "      \"RLLR. \" + str(binary_tree.head.right.left.left.right) + \"\\n\" + \\\n",
    "      \"RLLRL. \" + str(binary_tree.head.right.left.left.right.left) + \"\\n\") \n",
    "\n",
    "\n",
    "print(binary_tree.pop())\n",
    "print(binary_tree.pop())\n",
    "print(binary_tree.pop())\n",
    "print(binary_tree.pop())\n",
    "print(binary_tree.pop())\n",
    "print(binary_tree.pop())\n",
    "print(binary_tree.pop())\n",
    "print(binary_tree.pop())\n",
    "print(binary_tree.pop())\n",
    "print(binary_tree.pop())\n",
    "\n",
    "print(\"\\n\", binary_tree)\n",
    "binary_tree.push(BTNode(10))\n",
    "binary_tree.push(BTNode(5))\n",
    "binary_tree.push(BTNode(15))\n",
    "print(binary_tree.pop())\n",
    "binary_tree.push(BTNode(3))\n",
    "print(binary_tree.pop())\n",
    "print(binary_tree.pop())\n",
    "binary_tree.push(BTNode(7))\n",
    "print(binary_tree.pop())\n",
    "print(binary_tree.pop())"
   ]
  }
 ],
 "metadata": {
  "kernelspec": {
   "display_name": "Python 3",
   "language": "python",
   "name": "python3"
  },
  "language_info": {
   "codemirror_mode": {
    "name": "ipython",
    "version": 3
   },
   "file_extension": ".py",
   "mimetype": "text/x-python",
   "name": "python",
   "nbconvert_exporter": "python",
   "pygments_lexer": "ipython3",
   "version": "3.7.1"
  }
 },
 "nbformat": 4,
 "nbformat_minor": 2
}
