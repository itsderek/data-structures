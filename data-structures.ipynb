{
 "cells": [
  {
   "cell_type": "markdown",
   "metadata": {},
   "source": [
    "# Node Class"
   ]
  },
  {
   "cell_type": "code",
   "execution_count": 1,
   "metadata": {},
   "outputs": [],
   "source": [
    "class Node:\n",
    "    value = None\n",
    "    node_list = []\n",
    "    \n",
    "    def __init__(self, value):\n",
    "        self.value = value\n",
    "    \n",
    "    def addChild(self, child_node):\n",
    "        node_list.append(child_node)\n",
    "    \n",
    "    #FIFO behavior by default\n",
    "    def removeChild(self):\n",
    "        return node_list.pop(0)"
   ]
  },
  {
   "cell_type": "markdown",
   "metadata": {},
   "source": [
    "### Node\n",
    "The Node class will be the basic building block for all the following data structures. It can hold a value and can have one or more children. This is accomplished by having a list of Nodes instead of defining each Node child."
   ]
  },
  {
   "cell_type": "code",
   "execution_count": null,
   "metadata": {},
   "outputs": [],
   "source": [
    "class Stack:\n",
    "    head = None\n",
    "    \n",
    "    def push(value):\n",
    "        if(head is None):\n",
    "            head = Node(value)\n",
    "        else:\n",
    "            new_node = Node(value)\n",
    "            new_node.addChild(head)\n",
    "            head = new_node\n",
    "    \n",
    "    def pop():\n",
    "        if(head is None):\n",
    "            return False\n",
    "        else:\n",
    "            popped_node = head\n",
    "            head = head.removeChild()\n",
    "            return popped_node.value"
   ]
  },
  {
   "cell_type": "markdown",
   "metadata": {},
   "source": [
    "### Stack\n",
    "A very simple implementation of a stack. It has two method, push and pop, which manipulate adding to and removal from our stack. Pop returns False if there is nothing on the stack."
   ]
  },
  {
   "cell_type": "code",
   "execution_count": null,
   "metadata": {},
   "outputs": [],
   "source": []
  }
 ],
 "metadata": {
  "kernelspec": {
   "display_name": "Python 3",
   "language": "python",
   "name": "python3"
  },
  "language_info": {
   "codemirror_mode": {
    "name": "ipython",
    "version": 3
   },
   "file_extension": ".py",
   "mimetype": "text/x-python",
   "name": "python",
   "nbconvert_exporter": "python",
   "pygments_lexer": "ipython3",
   "version": "3.7.1"
  }
 },
 "nbformat": 4,
 "nbformat_minor": 2
}
